{
 "cells": [
  {
   "cell_type": "markdown",
   "metadata": {},
   "source": [
    "# Recommender System based on Doc2Vec"
   ]
  },
  {
   "cell_type": "markdown",
   "metadata": {},
   "source": [
    "#### Librairies"
   ]
  },
  {
   "cell_type": "code",
   "execution_count": 1,
   "metadata": {},
   "outputs": [],
   "source": [
    "from gensim.corpora.wikicorpus import WikiCorpus\n",
    "from gensim.models.doc2vec import Doc2Vec, TaggedDocument\n",
    "from pprint import pprint\n",
    "import multiprocessing"
   ]
  },
  {
   "cell_type": "markdown",
   "metadata": {},
   "source": [
    "#### Wikipedia data"
   ]
  },
  {
   "cell_type": "code",
   "execution_count": 2,
   "metadata": {},
   "outputs": [
    {
     "name": "stderr",
     "output_type": "stream",
     "text": [
      "/Users/Ludivine/opt/anaconda3/lib/python3.8/site-packages/gensim/utils.py:1268: UserWarning: detected OSX with python3.8+; aliasing chunkize to chunkize_serial\n",
      "  warnings.warn(\"detected %s; aliasing chunkize to chunkize_serial\" % entity)\n"
     ]
    }
   ],
   "source": [
    "wiki = WikiCorpus(\"enwiki-20210101-pages-articles-multistream12.xml-p8554860p9172788.bz2\")"
   ]
  },
  {
   "cell_type": "code",
   "execution_count": 38,
   "metadata": {},
   "outputs": [],
   "source": [
    "class TaggedWikiDocument(object):\n",
    "    def __init__(self, wiki):\n",
    "        self.wiki = wiki\n",
    "        self.wiki.metadata = True\n",
    "    def __iter__(self):\n",
    "        for content, (page_id, title) in self.wiki.get_texts():\n",
    "            yield TaggedDocument(content, [title])"
   ]
  },
  {
   "cell_type": "code",
   "execution_count": 39,
   "metadata": {},
   "outputs": [],
   "source": [
    "documents = TaggedWikiDocument(wiki)"
   ]
  },
  {
   "cell_type": "markdown",
   "metadata": {},
   "source": [
    "#### Statitics"
   ]
  },
  {
   "cell_type": "code",
   "execution_count": 41,
   "metadata": {},
   "outputs": [],
   "source": [
    "#pre = Doc2Vec(min_count=0)\n",
    "#pre.build_vocab(documents)"
   ]
  },
  {
   "cell_type": "code",
   "execution_count": 42,
   "metadata": {},
   "outputs": [],
   "source": [
    "#for num in range(0, 20):\n",
    "    #print('min_count: {}, size of vocab: '.format(num), pre.scale_vocab(min_count=num, dry_run=True)['memory']['vocab']/700)"
   ]
  },
  {
   "cell_type": "markdown",
   "metadata": {},
   "source": [
    "#### Models"
   ]
  },
  {
   "cell_type": "code",
   "execution_count": 43,
   "metadata": {},
   "outputs": [],
   "source": [
    "cores = multiprocessing.cpu_count()\n",
    "\n",
    "models = [\n",
    "    # PV-DBOW \n",
    "    Doc2Vec(dm=0, dbow_words=1, vector_size=200, window=8, min_count=19, epochs=10, workers=cores),\n",
    "    # PV-DM w/average\n",
    "    Doc2Vec(dm=1, dm_mean=1, vector_size=200, window=8, min_count=19, epochs=10, workers=cores),\n",
    "]"
   ]
  },
  {
   "cell_type": "code",
   "execution_count": 44,
   "metadata": {},
   "outputs": [
    {
     "name": "stdout",
     "output_type": "stream",
     "text": [
      "Doc2Vec(dbow+w,d200,n5,w8,mc19,s0.001,t4)\n",
      "Doc2Vec(dm/m,d200,n5,w8,mc19,s0.001,t4)\n"
     ]
    }
   ],
   "source": [
    "models[0].build_vocab(documents)\n",
    "print(str(models[0]))\n",
    "models[1].reset_from(models[0])\n",
    "print(str(models[1]))"
   ]
  },
  {
   "cell_type": "code",
   "execution_count": 45,
   "metadata": {},
   "outputs": [
    {
     "name": "stdout",
     "output_type": "stream",
     "text": [
      "CPU times: user 2h 15min 9s, sys: 3min 40s, total: 2h 18min 50s\n",
      "Wall time: 1h 34min 12s\n",
      "CPU times: user 33min 38s, sys: 2min 22s, total: 36min\n",
      "Wall time: 48min 56s\n"
     ]
    }
   ],
   "source": [
    "for model in models:\n",
    "    %time model.train(documents, total_examples=model.corpus_count, epochs=10)"
   ]
  },
  {
   "cell_type": "markdown",
   "metadata": {},
   "source": [
    "#### Results"
   ]
  },
  {
   "cell_type": "code",
   "execution_count": 148,
   "metadata": {},
   "outputs": [],
   "source": [
    "#for model in models:\n",
    "    #print(str(model))\n",
    "    #pprint(model.docvecs.most_similar(positive=[\"Impractical joker\"], topn=10))"
   ]
  },
  {
   "cell_type": "code",
   "execution_count": 149,
   "metadata": {},
   "outputs": [
    {
     "name": "stdout",
     "output_type": "stream",
     "text": [
      "['impractical', 'jokers']\n",
      "[('New Synagogue (Tarnów)', 0.6353446245193481),\n",
      " ('Marver', 0.5988513231277466),\n",
      " ('Soil Stockpile', 0.5934687852859497),\n",
      " ('Sedreh', 0.5814381241798401),\n",
      " ('Siparium', 0.5809149742126465),\n",
      " ('Type 500 training mine', 0.5795101523399353),\n",
      " ('Non-communications signals', 0.5748095512390137),\n",
      " ('Internal flow', 0.5740222930908203),\n",
      " ('Pallet inverter', 0.5732473134994507),\n",
      " ('Athermalization', 0.5713787078857422)]\n",
      "['impractical', 'jokers']\n",
      "[('List of Åland municipalities by area', 0.8507674932479858),\n",
      " ('Geology of the English counties', 0.8480256795883179),\n",
      " ('Zuyevka, Kirov Oblast', 0.8464033603668213),\n",
      " ('List of foliage plant diseases (Bromeliaceae)', 0.8453917503356934),\n",
      " ('Leetonia High School', 0.844794750213623),\n",
      " ('Ernest Davies (Stretford MP)', 0.8422294855117798),\n",
      " ('Shirland Township, Winnebago County, Illinois', 0.838624119758606),\n",
      " ('Sepia bidhaia', 0.8375841379165649),\n",
      " ('Alexandre Bonnet', 0.8370817303657532),\n",
      " ('Bible Christian Mission', 0.8368717432022095)]\n"
     ]
    }
   ],
   "source": [
    "for model in models:\n",
    "    string= \"impractical jokers\".split()\n",
    "    print(string)\n",
    "    doc_vector = model.infer_vector(string)\n",
    "    pprint(model.docvecs.most_similar(positive=[doc_vector], topn=10))"
   ]
  },
  {
   "cell_type": "code",
   "execution_count": null,
   "metadata": {},
   "outputs": [],
   "source": []
  },
  {
   "cell_type": "markdown",
   "metadata": {},
   "source": [
    "#### Other function"
   ]
  },
  {
   "cell_type": "code",
   "execution_count": 150,
   "metadata": {},
   "outputs": [],
   "source": [
    "#def process_query(query):\n",
    "    #words = []\n",
    "    #words = query.split()\n",
    "    #return words"
   ]
  },
  {
   "cell_type": "code",
   "execution_count": 151,
   "metadata": {},
   "outputs": [],
   "source": [
    "#query = \"Impractical_Joker\"\n",
    "#l = process_query(query)\n",
    "#for model in models:\n",
    "    #sim = model.wv.most_similar(positive=l,topn=10)\n",
    "    #print(sim)"
   ]
  },
  {
   "cell_type": "code",
   "execution_count": null,
   "metadata": {},
   "outputs": [],
   "source": []
  },
  {
   "cell_type": "code",
   "execution_count": null,
   "metadata": {},
   "outputs": [],
   "source": []
  },
  {
   "cell_type": "markdown",
   "metadata": {},
   "source": [
    "## Recommender system interface :"
   ]
  },
  {
   "cell_type": "markdown",
   "metadata": {},
   "source": [
    "Link example : https://en.wikipedia.org/wiki/Impractical_Jokers"
   ]
  },
  {
   "cell_type": "code",
   "execution_count": 152,
   "metadata": {},
   "outputs": [
    {
     "name": "stdout",
     "output_type": "stream",
     "text": [
      "Enter a wiki link: https://en.wikipedia.org/wiki/Impractical_Jokers\n",
      "https://en.wikipedia.org/wiki/New_Synagogue_(Tarnów)\n",
      "https://en.wikipedia.org/wiki/Quantum_satis\n",
      "https://en.wikipedia.org/wiki/Marver\n",
      "https://en.wikipedia.org/wiki/Dribbleware\n",
      "https://en.wikipedia.org/wiki/Wolei-class_minelayer\n",
      "https://en.wikipedia.org/wiki/Internal_flow\n",
      "https://en.wikipedia.org/wiki/Pallet_inverter\n",
      "https://en.wikipedia.org/wiki/Athermalization\n",
      "https://en.wikipedia.org/wiki/Non-communications_signals\n",
      "https://en.wikipedia.org/wiki/Intrinsic_hyperpolarizability\n",
      "https://en.wikipedia.org/wiki/Geology_of_the_English_counties\n",
      "https://en.wikipedia.org/wiki/List_of_Sindhi-language_poets\n",
      "https://en.wikipedia.org/wiki/Shirland_Township,_Winnebago_County,_Illinois\n",
      "https://en.wikipedia.org/wiki/List_of_museums_in_Upper_Normandy\n",
      "https://en.wikipedia.org/wiki/Pine_Creek_Township,_Ogle_County,_Illinois\n",
      "https://en.wikipedia.org/wiki/KFBX\n",
      "https://en.wikipedia.org/wiki/Diving_at_the_1920_Summer_Olympics_–_Men's_plain_high_diving\n",
      "https://en.wikipedia.org/wiki/Baazi\n",
      "https://en.wikipedia.org/wiki/Oudkarspel\n",
      "https://en.wikipedia.org/wiki/Shadyside_High_School_(Ohio)\n"
     ]
    }
   ],
   "source": [
    "link = input (\"Enter a wiki link: \") \n",
    "#print(link[30:])\n",
    "string= str(link[30:]).split('_')\n",
    "string= [x.lower() for x in string]\n",
    "#print(string)\n",
    "for model in models:\n",
    "    doc_vector = model.infer_vector(string)\n",
    "    for i in range(len(model.docvecs.most_similar(positive=[doc_vector], topn=10))):\n",
    "        new_string= model.docvecs.most_similar(positive=[doc_vector], topn=10)[i][0].replace(\" \", \"_\")\n",
    "        print('https://en.wikipedia.org/wiki/'+new_string)"
   ]
  },
  {
   "cell_type": "code",
   "execution_count": null,
   "metadata": {},
   "outputs": [],
   "source": []
  }
 ],
 "metadata": {
  "kernelspec": {
   "display_name": "Python 3",
   "language": "python",
   "name": "python3"
  },
  "language_info": {
   "codemirror_mode": {
    "name": "ipython",
    "version": 3
   },
   "file_extension": ".py",
   "mimetype": "text/x-python",
   "name": "python",
   "nbconvert_exporter": "python",
   "pygments_lexer": "ipython3",
   "version": "3.8.5"
  }
 },
 "nbformat": 4,
 "nbformat_minor": 4
}
