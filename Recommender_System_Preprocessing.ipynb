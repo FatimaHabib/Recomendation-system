{
 "cells": [
  {
   "cell_type": "markdown",
   "metadata": {},
   "source": [
    "# Recommender System - Preprocessing "
   ]
  },
  {
   "cell_type": "markdown",
   "metadata": {},
   "source": [
    "## Import required packages"
   ]
  },
  {
   "cell_type": "code",
   "execution_count": 2,
   "metadata": {},
   "outputs": [],
   "source": [
    "import  re\n",
    "import xml.etree.ElementTree as ET\n",
    "import pandas as pd\n",
    "import os\n",
    "from nltk.corpus import stopwords \n",
    "from nltk.tokenize import word_tokenize "
   ]
  },
  {
   "cell_type": "markdown",
   "metadata": {},
   "source": [
    "## Retrieve data "
   ]
  },
  {
   "cell_type": "code",
   "execution_count": 3,
   "metadata": {},
   "outputs": [
    {
     "data": {
      "text/html": [
       "<div>\n",
       "<style scoped>\n",
       "    .dataframe tbody tr th:only-of-type {\n",
       "        vertical-align: middle;\n",
       "    }\n",
       "\n",
       "    .dataframe tbody tr th {\n",
       "        vertical-align: top;\n",
       "    }\n",
       "\n",
       "    .dataframe thead th {\n",
       "        text-align: right;\n",
       "    }\n",
       "</style>\n",
       "<table border=\"1\" class=\"dataframe\">\n",
       "  <thead>\n",
       "    <tr style=\"text-align: right;\">\n",
       "      <th></th>\n",
       "      <th>Title</th>\n",
       "      <th>ID</th>\n",
       "      <th>Text</th>\n",
       "    </tr>\n",
       "  </thead>\n",
       "  <tbody>\n",
       "    <tr>\n",
       "      <th>0</th>\n",
       "      <td>Chestnut Ridge Middle School</td>\n",
       "      <td>8554860</td>\n",
       "      <td>#REDIRECT[[Washington Township Public School D...</td>\n",
       "    </tr>\n",
       "    <tr>\n",
       "      <th>1</th>\n",
       "      <td>Colegio de Santa Cruz de Tlatelolco</td>\n",
       "      <td>8554864</td>\n",
       "      <td>{{Infobox university\\n|name              = Col...</td>\n",
       "    </tr>\n",
       "    <tr>\n",
       "      <th>2</th>\n",
       "      <td>Template:US-gov-bio-stub</td>\n",
       "      <td>8554865</td>\n",
       "      <td>{{asbox\\n| image     = Great Seal of the Unite...</td>\n",
       "    </tr>\n",
       "    <tr>\n",
       "      <th>3</th>\n",
       "      <td>Impractical joker (garfield)</td>\n",
       "      <td>8554867</td>\n",
       "      <td>#REDIRECT [[List of Garfield and Friends episo...</td>\n",
       "    </tr>\n",
       "    <tr>\n",
       "      <th>4</th>\n",
       "      <td>File:The Imperial Dowager Empress Yehenara.PNG</td>\n",
       "      <td>8554869</td>\n",
       "      <td>== Summary ==\\nhttp://guangxu.netor.com/galler...</td>\n",
       "    </tr>\n",
       "  </tbody>\n",
       "</table>\n",
       "</div>"
      ],
      "text/plain": [
       "                                            Title       ID  \\\n",
       "0                    Chestnut Ridge Middle School  8554860   \n",
       "1             Colegio de Santa Cruz de Tlatelolco  8554864   \n",
       "2                        Template:US-gov-bio-stub  8554865   \n",
       "3                    Impractical joker (garfield)  8554867   \n",
       "4  File:The Imperial Dowager Empress Yehenara.PNG  8554869   \n",
       "\n",
       "                                                Text  \n",
       "0  #REDIRECT[[Washington Township Public School D...  \n",
       "1  {{Infobox university\\n|name              = Col...  \n",
       "2  {{asbox\\n| image     = Great Seal of the Unite...  \n",
       "3  #REDIRECT [[List of Garfield and Friends episo...  \n",
       "4  == Summary ==\\nhttp://guangxu.netor.com/galler...  "
      ]
     },
     "execution_count": 3,
     "metadata": {},
     "output_type": "execute_result"
    }
   ],
   "source": [
    "\n",
    "\n",
    "tree = ET.parse('enwiki-20210101-pages-articles-multistream12.xml-p8554860p9172788')\n",
    "root = tree.getroot()\n",
    "\n",
    "titles = []\n",
    "texts = []\n",
    "ids = []\n",
    "\n",
    "ns = {'mediawiki': 'http://www.mediawiki.org/xml/export-0.10/'}\n",
    "for child in root.findall('mediawiki:page', ns):\n",
    "    title = child.find('mediawiki:title', ns)\n",
    "    identifier = child.find('mediawiki:id', ns)\n",
    "    titles.append(title.text)\n",
    "    ids.append(identifier.text)\n",
    "    for revision in child.findall('mediawiki:revision', ns):\n",
    "        text_data = revision.find('mediawiki:text', ns)\n",
    "        if text_data != None:\n",
    "            texts.append(text_data.text)\n",
    "        else:\n",
    "            texts.append(None)\n",
    "\n",
    "            # Create data frame with elements\n",
    "\n",
    "dataframe = pd.DataFrame(data={'Title': titles, 'ID': ids, 'Text': texts})\n",
    "dataframe.head(5)"
   ]
  },
  {
   "cell_type": "code",
   "execution_count": 4,
   "metadata": {},
   "outputs": [
    {
     "data": {
      "text/plain": [
       "<bound method NDFrame.describe of                                                  Title       ID  \\\n",
       "0                         Chestnut Ridge Middle School  8554860   \n",
       "1                  Colegio de Santa Cruz de Tlatelolco  8554864   \n",
       "2                             Template:US-gov-bio-stub  8554865   \n",
       "3                         Impractical joker (garfield)  8554867   \n",
       "4       File:The Imperial Dowager Empress Yehenara.PNG  8554869   \n",
       "...                                                ...      ...   \n",
       "171737            South Delhi (Lok Sabha Constituency)  9172776   \n",
       "171738                            File:Om grafitti.jpg  9172779   \n",
       "171739                                    South Cliffe  9172782   \n",
       "171740                                    Sándor Erdős  9172785   \n",
       "171741                           Yoshibayama Junnosuke  9172787   \n",
       "\n",
       "                                                     Text  \n",
       "0       #REDIRECT[[Washington Township Public School D...  \n",
       "1       {{Infobox university\\n|name              = Col...  \n",
       "2       {{asbox\\n| image     = Great Seal of the Unite...  \n",
       "3       #REDIRECT [[List of Garfield and Friends episo...  \n",
       "4       == Summary ==\\nhttp://guangxu.netor.com/galler...  \n",
       "...                                                   ...  \n",
       "171737  #REDIRECT [[South Delhi (Lok Sabha constituenc...  \n",
       "171738  ==Summary==\\nThis is an Om (also spelled Aum) ...  \n",
       "171739  {{About|the British village|the television ser...  \n",
       "171740  {{short description|Hungarian fencer}}\\n{{East...  \n",
       "171741  {{short description|Japanese sumo wrestler}}\\n...  \n",
       "\n",
       "[171742 rows x 3 columns]>"
      ]
     },
     "execution_count": 4,
     "metadata": {},
     "output_type": "execute_result"
    }
   ],
   "source": [
    "dataframe.describe"
   ]
  },
  {
   "cell_type": "code",
   "execution_count": 5,
   "metadata": {},
   "outputs": [
    {
     "name": "stdout",
     "output_type": "stream",
     "text": [
      "5\n"
     ]
    }
   ],
   "source": [
    "print(dataframe.shape[0] - dataframe.dropna().shape[0])"
   ]
  },
  {
   "cell_type": "code",
   "execution_count": 6,
   "metadata": {},
   "outputs": [
    {
     "name": "stdout",
     "output_type": "stream",
     "text": [
      "{{Infobox university\n",
      "|name              = Colegio de Santa Cruz de Tlatelolco\n",
      "|image = File:Iglesia_de_Santiago_Tlatelolco,_M%C3%A9xico_D.F.,_M%C3%A9xico,_2013-10-16,_DD_38.JPG\n",
      "|native_name       = \n",
      "|motto             = \n",
      "|established       = {{start date and age|1536|1|6}}\n",
      "|type              = [[Catholic education|Catholic]]\n",
      "|city              = [[Tlatelolco (Mexico City)|Tlatelolco]], [[Mexico City]]\n",
      "|country           = [[Mexico]]\n",
      "|campus            = [[urban area|Urban]]\n",
      "}}\n",
      "[[File:Iglesia de Santiago Tlatelolco, México D.F., México, 2013-10-16, DD 31.JPG|thumbnail|Exterior of the church]]\n",
      "[[File:Iglesia de Santiago Tlatelolco, México D.F., México, 2013-10-16, DD 46.JPG|thumb|View of dome from below]]\n",
      "The '''Colegio de Santa Cruz''' in [[Tlatelolco (Mexico City)|Tlatelolco]], [[Mexico City]], is the first and oldest European school of [[higher learning]] in the [[Americas]]<ref>{{cite book|url=https://catalog.hathitrust.org/Record/101392426|title=The first college in America: Santa Cruz de Tlatelolco.|location=Washington DC|year=1936|author1=Steck|author2=Francis Borgia}}</ref> and the first major school of interpreters and translators in the [[New World]].<ref>{{cite book|chapter-url=https://books.openedition.org/uop/336?lang=es|title=Charting the Future of Translation History|pages=263–275|author=Lourdes Arencibia Rodriguez|isbn=9780776626208|chapter=The Imperial College of Santa Cruz de Tlatelolco: The First School of Translators and Interpreters in Sixteenth-Century Spanish America|publisher=[[University of Ottawa]] Press|date=2006|access-date=2017-09-27|series=Perspectives on Translation}}</ref> It was established by the Franciscans on January 6, 1536<ref>{{cite web|website=Cronica.com.mx|title=A 480 años del Colegio de la Santa Cruz de Tlatelolco|url=http://www.cronica.com.mx/notas/2016/972793.html|author=Carlos Villa Roiz|accessdate=July 17, 2019|date=July 16, 2016|language=Spanish|trans-title=480 years of Colegio de Santa Cruz de Tlatelolco}}</ref> with the intention, as is generally accepted, of preparing Native American boys for eventual ordination to the Catholic priesthood.<ref>Robert Ricard, ''The Spiritual Conquest of Mexico''. Translated by Lesley Byrd Simpson. Berkeley: University of California Press 1966, pp. 217-235.</ref><ref>See Brand, p. 63; for the argument that it was not founded with this intention, see Estarellas, Juan: \"The College of Tlatelolco and the Problem of Higher Education for Indians in 16th Century Mexico\". ''History of Education Quarterly'', Vol. 2, No. 4 (Dec., 1962) pp.234-243 at pp.236f.</ref> Students trained in the ''Colegio'' were important contributors to the work of Franciscan [[Bernardino de Sahagún]] in the creation of his monumental twelve-volume ''General History of the Things of New Spain'', often referred to as the [[Florentine Codex]].  The failure of the ''Colegio'' had long-lasting consequences, with scholar Robert Ricard saying that \"[h]ad the College of Tlatelolco given the country even one [native] bishop, the history of the Mexican Church might have been profoundly changed.\"<ref>Ricard, ''Spiritual Conquest'', p. 235.</ref>\n",
      "\n",
      "==History==\n",
      "[[File:Templo y Ex Convento, Santiago Tlatelolco.jpg|thumb|Facade]]\n",
      "[[File:Antiguo Convento de Santiago Tlatelolco.JPG|thumb|The convent of the college of Santa Cruz de Tlatelolco.]]\n",
      "[[File:Tlatelolco e iglesia de Santiago Tlatelolco, México D.F., México, 2013-10-16, DD 25.JPG|thumb|The [[Tlatelolco (archaeological site)|archaeological site of Tlatelolco]] with the church at background, in the Plaza de las Tres Culturas.]]\n",
      "\n",
      "The ''Colegio'' was built by the [[Franciscan order]] on the initiative of the President of the Audiencia [[Sebastián Ramírez de Fuenleal]], Bishop Don [[Juan de Zumárraga]], and Viceroy Don [[Antonio de Mendoza]] on the site of an [[Aztec]] school, for the sons of nobles (in Nahuatl: [[Calmecac]]). It was inaugurated on January 6, 1536, however, it had been a functioning school since August 8, 1533.\n",
      "\n",
      "While Bishop of Santo Domingo, Ramírez de Fuenleal had encouraged the Franciscans to teach the sons of Indians grammar in their native language of Nahuatl.<ref>Ricard, ''Spiritual Conquest'', p. 222.</ref> Franciscan Arnaldo de Basccio began the task with considerable success, which gave support to the project of establishing an institute of higher learning. Ramírez de Fuenleal urged the crown to provide funds to establish and support such an institution.<ref>Ricard, ''Spiritual Conquest'', p. 222.</ref> The Franciscans had already established primary schools prior to the ''Colegio'', one at Texcoco, established by Fray [[Pedro de Gante]] in 1523 and the other by the leader of the First Twelve Franciscans, [[Martín de Valencia]] in Mexico-Tenochtitlan in 1525. Still others were founded by Franciscans in this early period.<ref>Robert Ricard, ''The Spiritual Conquest of Mexico''. Translated by Lesley Byrd Simpson. Berkeley: University of California Press 1966, p. 208.</ref><ref>Georges Baudot, ''Utopia and History in Mexico: The First Chronicles of Mexican Civilization, 1520-1569''. Translated by Bernard R. Ortiz de Montellano and Thelma Ortiz de Montellano.  Boulder: University of Colorado Press, 1995, p. 105.</ref>  These schools for Indian and mestizo boys taught basic literacy, but also singing, instruction in how to help with the mass, and sometimes manual labor. The primary education of Indian girls was also a concern and schools were established in Mexico City, Texcoco and six other locations lasting only for a decade.<ref>Ricard, ''Spiritual Conquest'', p. 210-11.</ref>\n",
      "\n",
      "But not until the establishment of the ''Colegio de Santa Cruz'' were sons of Indian men given higher education.<ref>Baudot, ''Utopia and History'' p. 105</ref> Bishop Juan de Zumárraga was a supporter of the establishment of the ''Colegio'', but credited  Fuenleal and the crown for the accomplishment.<ref>Ricard, ''Spiritual Conquest'', p. 222.</ref> The ''Colegio'' was inaugurated on January 6, 1536, the feast of the [[Epiphany (holiday)|Epiphany]],  deliberately chosen for its symbolism of calling the gentiles to the true faith.<ref>Ricard, ''Spiritual Conquest'' p. 219.</ref> The establishment of such a school to train young men for the priesthood was highly controversial, with opposition especially coming from Dominican friars and articulated by the head of that order, Fray [[Domingo Betanzos]].<ref>Ricard, ''Spiritual Conquest'' p. 225-26</ref><ref>Baudot, ''Utopia and History'', p. 107.</ref>  Franciscan [[Bernardino de Sahagún]] wrote a strong defense of the capacity of the Indians, countering the opinions of those who doubted the Indians' ability not only to learn Latin grammar, but to speak, and compose in it. He went on to refute concerns about the possibility of the Indians spreading heresy.<ref>Bernardino de Sahagún quoted in Ricard, ''Spiritual Conquest'', p. 226-27.</ref>  Betanzos in his opposition to the ''Colegio'' said that Native Americans who knew Latin could expose the ignorance of the existing European priests, an argument that perhaps unwittingly did the same.<ref>Ricard, ''Spiritual Conquest'' p. 226, quoting Joaquín García Icazbalceta, ''Códice Franciscano'', vol. 2 of ''Nueva colección de documentos para la historia de México'', Mexico: 1886-1892, p. 71.</ref>\n",
      "\n",
      "The original purpose of the ''Colegio'' was to educate a male indigenous priesthood, and so pupils were selected from the most prestigious families of the Aztec ruling class. These young men were taught to be literate in [[Nahuatl]], [[Spanish language|Spanish]] and [[Latin]], and received instruction in Latin in music, rhetoric, logic, and philosophy, and indigenous medicine.<ref>Ricard, ''Spiritual Conquest'', p. 220.</ref> One student educated at the ''Colegio'' was [[Nahua peoples|Nahua]] [[Botany|botanist]] Martín de la Cruz, who wrote the [[Libellus de Medicinalibus Indorum Herbis]], an illustrated herbal.\n",
      "\n",
      "Actual instruction at the ''Colegio'' was by two Franciscans at a time, aided by Indian assistants.<ref>Ricard, ''Spiritual Conquest'', p. 220.</ref> Among the teachers were notable scholars and grammarians such as Franciscans [[Andrés de Olmos]], [[Alonso de Molina]] and [[Bernardino de Sahagún]], all of whom have made important contributions to the study of both the [[Classical Nahuatl]] language and the [[ethnography]] and anthropology of [[Mesoamerica]]. Other Franciscans who taught there were Fray Juan de Goana, Fray Francisco de Bustamante, Fray García de Cisneros, Fray Arnaldo de Basaccio, and Fray Juan Focher.<ref>Ricard, ''Spiritual Conquest'', p. 220, citing Gerónimo de Mendieta, ''Historia Eclesiástica Indiana''.</ref> [[Fray Juan de Torquemada]] also served as a teacher and administrator at the ''Colegio''. When recollecting historical and ethnographical information for the elaboration of the [[Florentine Codex]], Sahagún used his trilingual students to elicit information from the Aztec elders and to transcribe it in Spanish and Nahuatl and to illuminate the manuscripts.\n",
      "\n",
      "Opened with great fanfare, the ceremony was attended by Viceroy Mendoza, Bishop [[Juan de Zumárraga]], and the President of the Audiencia, [[Sebastián Ramírez de Fuenleal]] with a great crowd to view the proceedings.  Fray Alonso de Herrera preached the sermon at the opening Mass. Following the religious ceremony, there was a banquet hosted by Zumárraga for guests and the first pupils, chosen from the convent of San Francisco de México.<ref>Ricard, ''Spiritual Conquest'', p. 219.</ref>\n",
      "\n",
      "Although there was great support from many sectors (excluding the Dominicans who objected to the founding of the ''Colegio''), the physical structure was at first quite modest for lack of funds and later a stone house was built.<ref>Ricard, ''Spiritual Conquest'' p. 219.</ref>\n",
      "\n",
      "The first sixty male students was a small cohort of sons of noble families; there was tremendous need for many more pupils, so the Franciscans actively recruited others from important towns in central Mexico, two or three boys 10 to 12 years of age.<ref>Ricard, ''Spiritual Conquest'', p. 219.</ref>  The pupils lived in the ''Colegio'' in very modest circumstances.  A common eating area and sleeping quarters with beds being only a mat and a blanket placed on individual wooden platforms to keep pupils from the damp floor.<ref>Ricard, ''Spiritual Conquest'', p. 219-220.</ref>  Some important pupils trained at the school were [[Antonio de Valeriano]], who was the most prominent of those who collaborated with Sahagún. Spanish judge Alonso de Zorita, author of ''Life and Labor in Ancient Mexico: the Brief and Summary Relation of the Lords of New Spain''<ref>Alonso de Zorita, ''Life and Labor in Ancient Mexico: the Brief and Summary Relation of the Lords of New Spain''.  Translated by Benjamin Keen.  New Brunswick: Rutgers University Press 1963.</ref> was aided by the translations of Pablo Nazareno, a former pupil at the ''Colegio''.<ref>Ricard, ''Spiritual Conquest'' p.&nbsp;224.</ref>\n",
      "\n",
      "The Franciscans continued to teach at the ''Colegio'', but could not afford to keep up the building or other expenses, so they turned it over to the crown shortly after the ''Colegio'' opened in 1536.<ref>Ricard, ''Spiritual Conquest'' p. 220.</ref>  In 1546 the Franciscans gave up any management of the property and it was turned over to the pupils and former pupils to run.  By 1550 due to poor management, the buildings were falling down and pupils had to become day students.<ref>Ricard, ''Spiritual Conquest'', p. 220.</ref>  In 1555, Indians were forbidden from ordination to the priesthood, so that the original purpose of the school to train a native priesthood was ended.  In the seventeenth century when Franciscan [[Augustín de Vetancurt]] was writing, the ''Colegio'' was a complete ruin.<ref>Ricard, ''Spiritual Conquest'' p. 221.</ref>\n",
      "\n",
      "In modern [[Mexico city]] the [[Plaza de las Tres Culturas]], close to the location of the ''Colegio'', commemorates this particularly interesting part of the cultural history of Mexico.\n",
      "\n",
      "The accompanying illustration shows the church of Santiago which still exists, together with part of the conventual buildings (now a library), visible to the right of the church.<ref>The surviving conventual buildings house the José María Lafragua Library: see the relevant [http://www.sre.gob.mx/acervo/index.php?option=com_content&view=article&id=54&Itemid=332 webpage] of the Mexican Ministry of Foreign Affairs</ref>\n",
      "\n",
      "==Legacy==\n",
      "The ''Colegio'' was founded in the early sixteenth century in a period of great optimism about the capacity of the Indians and the prospects for their being ordained as Catholic priests.  Its failure in the late sixteenth century was a serious one.  According to Robert Ricard, the \"error prevented the Church from striking deep roots in the nation, gave it the appearance and character of a foreign institution, and kept it dependent upon the mother country.\"<ref>Ricard, ''Spiritual Conquest'', p. 235.</ref>  There were some Indian men ordained in the later colonial period, but they were few and never held high posts.<ref>Ricard, ''Spiritual Conquest'', p. 235.</ref>  American-born Spaniards, [[Criollo people|criollos]], were trained in Mexican seminaries, but there was no significant native clergy.\n",
      "\n",
      "The training of elite young men at the ''Colegio'' in grammar, rhetoric, and theology did, however, enormously aid the Franciscans in their efforts to evangelize the Indians and to record indigenous history and culture in texts that remain fundamental to the understanding of Nahua culture.\n",
      "\n",
      "==See also==\n",
      "*[[Plaza de las Tres Culturas]]\n",
      "*[[Tlatelolco (archaeological site)]]\n",
      "*[[List of colonial churches in Mexico City]]\n",
      "*[[List of oldest buildings in the Americas]]\n",
      "\n",
      "==References==\n",
      "{{div col|colwidth=30em}}\n",
      "{{reflist}}\n",
      "{{div col end|2}}\n",
      "\n",
      "==Further reading==\n",
      "{{div col|colwidth=30em}}\n",
      "*Baudot, Georges. ''Utopia and History in Mexico: The First Chronicles of Mexican Civilization, 1520-1569''. Translated by Bernardo R. Ortiz de Montellano and Thelma Ortiz de Montellano.  Boulder: University of Colorado Press 1995.\n",
      "*Brand, Donald, D., \"Where is the Oldest University in the New World?\", ''New Mexico Anthropologist'', vol. 4, No. 4 (Oct.-Dec. 1940), pp.&nbsp;61–63\n",
      "*Estarellas, Juan: \"The College of Tlatelolco and the Problem of Higher Education for Indians in 16th Century Mexico\". ''History of Education Quarterly'', Vol. 2, No. 4 (Dec., 1962) pp.&nbsp;234–243\n",
      "*Gómez Canedo, Lino. ''La educación de los marginados durante la época colonial: Escuelas y colegios para indios y mestizos en la Nueva España''. cap. IV \"Enseñanza superior: Tlatelolco\". Mexico: Editorial Porrúa 1982.\n",
      "*Mathes, Michael, 1985, \"''The Americas' first academic library Santa Cruz de Tlatelolco''\", Sacramento, California State Library\n",
      "*Maxwell, Judith M, and Craig A Hanson, 1992, \"Introduction\" ''Of the Manner of Speaking That the Old Ones Had: Arte Para aprender la Lengua Mexicana 1547''. University of Utah Press, Salt Lake City.\n",
      "*Ocaranza, F.''El imperial colegio de indios de Santa Cruz de Santiago Tlatelolco''. Mexico, 1934, n.p.\n",
      "*Ricard, Robert. 1966. ''The Spiritual Conquest of Mexico: An Essay on the Apostolate and the Evangelizing Methods of the Mendicant Orders in New Spain, 1523-1572.'' Translated by Lesley Byrd Simpson. Berkeley: University of California Press 1966. Originally published in French in 1933.\n",
      "*SilverMoon. 2007. The Imperial College of Tlatelolco and the emergence of a new Nahua intellectual elite in New Spain (1500–1760). Doctoral Dissertation. Duke University. ProQuest. [https://books.google.com/books?id=CRzyqNlLuMsC&printsec=frontcover&source=gbs_ge_summary_r&cad=0#v=onepage&q&f=false]\n",
      "*Steck, F.B. ''El primer colegio de América, Santa Cruz de Tlatelolco. Mexico: Centro de Estudios Franciscanos, 1944.\n",
      "{{div col end|2}}\n",
      "\n",
      "{{coord|19.4509|N|99.1367|W|source:wikidata|display=title}}\n",
      "\n",
      "[[Category:Universities in Mexico City]]\n",
      "[[Category:Franciscan universities and colleges]]\n",
      "[[Category:Cuauhtémoc, Mexico City]]\n",
      "[[Category:Colonial Mexico|Colegio de Santa Cruz de Tlatelolco]]\n",
      "[[Category:1536 establishments in Mexico]]\n",
      "[[Category:Educational institutions established in the 1530s]]\n",
      "[[Category:Roman Catholic churches in Mexico City|Santiago Tlatelolco]]\n",
      "[[Category:Roman Catholic churches completed in 1536]]\n",
      "[[Category:Baroque architecture in Mexico]]\n"
     ]
    }
   ],
   "source": [
    "print(dataframe['Text'][1])"
   ]
  },
  {
   "cell_type": "code",
   "execution_count": 11,
   "metadata": {},
   "outputs": [
    {
     "name": "stdout",
     "output_type": "stream",
     "text": [
      "{{Infobox university\n",
      "|name              = Colegio de Santa Cruz de Tlatelolco\n",
      "|image = File:Iglesia_de_Santiago_Tlatelolco,_M%C3%A9xico_D.F.,_M%C3%A9xico,_2013-10-16,_DD_38.JPG\n",
      "|native_name       = \n",
      "|motto             = \n",
      "|established       = {{start date and age|1536|1|6}}\n",
      "|type              = [[Catholic education|Catholic]]\n",
      "|city              = [[Tlatelolco (Mexico City)|Tlatelolco]], [[Mexico City]]\n",
      "|country           = [[Mexico]]\n",
      "|campus            = [[urban area|Urban]]\n",
      "}}\n",
      "[[File:Iglesia de Santiago Tlatelolco, México D.F., México, 2013-10-16, DD 31.JPG|thumbnail|Exterior of the church]]\n",
      "[[File:Iglesia de Santiago Tlatelolco, México D.F., México, 2013-10-16, DD 46.JPG|thumb|View of dome from below]]\n",
      "The '''Colegio de Santa Cruz''' in [[Tlatelolco (Mexico City)|Tlatelolco]], [[Mexico City]], is the first and oldest European school of [[higher learning]] in the [[Americas]]<ref>{{cite book|url=https://catalog.hathitrust.org/Record/101392426|title=The first college in America: Santa Cruz de Tlatelolco.|location=Washington DC|year=1936|author1=Steck|author2=Francis Borgia}}</ref> and the first major school of interpreters and translators in the [[New World]].<ref>{{cite book|chapter-url=https://books.openedition.org/uop/336?lang=es|title=Charting the Future of Translation History|pages=263–275|author=Lourdes Arencibia Rodriguez|isbn=9780776626208|chapter=The Imperial College of Santa Cruz de Tlatelolco: The First School of Translators and Interpreters in Sixteenth-Century Spanish America|publisher=[[University of Ottawa]] Press|date=2006|access-date=2017-09-27|series=Perspectives on Translation}}</ref> It was established by the Franciscans on January 6, 1536<ref>{{cite web|website=Cronica.com.mx|title=A 480 años del Colegio de la Santa Cruz de Tlatelolco|url=http://www.cronica.com.mx/notas/2016/972793.html|author=Carlos Villa Roiz|accessdate=July 17, 2019|date=July 16, 2016|language=Spanish|trans-title=480 years of Colegio de Santa Cruz de Tlatelolco}}</ref> with the intention, as is generally accepted, of preparing Native American boys for eventual ordination to the Catholic priesthood.<ref>Robert Ricard, ''The Spiritual Conquest of Mexico''. Translated by Lesley Byrd Simpson. Berkeley: University of California Press 1966, pp. 217-235.</ref><ref>See Brand, p. 63; for the argument that it was not founded with this intention, see Estarellas, Juan: \"The College of Tlatelolco and the Problem of Higher Education for Indians in 16th Century Mexico\". ''History of Education Quarterly'', Vol. 2, No. 4 (Dec., 1962) pp.234-243 at pp.236f.</ref> Students trained in the ''Colegio'' were important contributors to the work of Franciscan [[Bernardino de Sahagún]] in the creation of his monumental twelve-volume ''General History of the Things of New Spain'', often referred to as the [[Florentine Codex]].  The failure of the ''Colegio'' had long-lasting consequences, with scholar Robert Ricard saying that \"[h]ad the College of Tlatelolco given the country even one [native] bishop, the history of the Mexican Church might have been profoundly changed.\"<ref>Ricard, ''Spiritual Conquest'', p. 235.</ref>\n",
      "\n",
      "==History==\n",
      "[[File:Templo y Ex Convento, Santiago Tlatelolco.jpg|thumb|Facade]]\n",
      "[[File:Antiguo Convento de Santiago Tlatelolco.JPG|thumb|The convent of the college of Santa Cruz de Tlatelolco.]]\n",
      "[[File:Tlatelolco e iglesia de Santiago Tlatelolco, México D.F., México, 2013-10-16, DD 25.JPG|thumb|The [[Tlatelolco (archaeological site)|archaeological site of Tlatelolco]] with the church at background, in the Plaza de las Tres Culturas.]]\n",
      "\n",
      "The ''Colegio'' was built by the [[Franciscan order]] on the initiative of the President of the Audiencia [[Sebastián Ramírez de Fuenleal]], Bishop Don [[Juan de Zumárraga]], and Viceroy Don [[Antonio de Mendoza]] on the site of an [[Aztec]] school, for the sons of nobles (in Nahuatl: [[Calmecac]]). It was inaugurated on January 6, 1536, however, it had been a functioning school since August 8, 1533.\n",
      "\n",
      "While Bishop of Santo Domingo, Ramírez de Fuenleal had encouraged the Franciscans to teach the sons of Indians grammar in their native language of Nahuatl.<ref>Ricard, ''Spiritual Conquest'', p. 222.</ref> Franciscan Arnaldo de Basccio began the task with considerable success, which gave support to the project of establishing an institute of higher learning. Ramírez de Fuenleal urged the crown to provide funds to establish and support such an institution.<ref>Ricard, ''Spiritual Conquest'', p. 222.</ref> The Franciscans had already established primary schools prior to the ''Colegio'', one at Texcoco, established by Fray [[Pedro de Gante]] in 1523 and the other by the leader of the First Twelve Franciscans, [[Martín de Valencia]] in Mexico-Tenochtitlan in 1525. Still others were founded by Franciscans in this early period.<ref>Robert Ricard, ''The Spiritual Conquest of Mexico''. Translated by Lesley Byrd Simpson. Berkeley: University of California Press 1966, p. 208.</ref><ref>Georges Baudot, ''Utopia and History in Mexico: The First Chronicles of Mexican Civilization, 1520-1569''. Translated by Bernard R. Ortiz de Montellano and Thelma Ortiz de Montellano.  Boulder: University of Colorado Press, 1995, p. 105.</ref>  These schools for Indian and mestizo boys taught basic literacy, but also singing, instruction in how to help with the mass, and sometimes manual labor. The primary education of Indian girls was also a concern and schools were established in Mexico City, Texcoco and six other locations lasting only for a decade.<ref>Ricard, ''Spiritual Conquest'', p. 210-11.</ref>\n",
      "\n",
      "But not until the establishment of the ''Colegio de Santa Cruz'' were sons of Indian men given higher education.<ref>Baudot, ''Utopia and History'' p. 105</ref> Bishop Juan de Zumárraga was a supporter of the establishment of the ''Colegio'', but credited  Fuenleal and the crown for the accomplishment.<ref>Ricard, ''Spiritual Conquest'', p. 222.</ref> The ''Colegio'' was inaugurated on January 6, 1536, the feast of the [[Epiphany (holiday)|Epiphany]],  deliberately chosen for its symbolism of calling the gentiles to the true faith.<ref>Ricard, ''Spiritual Conquest'' p. 219.</ref> The establishment of such a school to train young men for the priesthood was highly controversial, with opposition especially coming from Dominican friars and articulated by the head of that order, Fray [[Domingo Betanzos]].<ref>Ricard, ''Spiritual Conquest'' p. 225-26</ref><ref>Baudot, ''Utopia and History'', p. 107.</ref>  Franciscan [[Bernardino de Sahagún]] wrote a strong defense of the capacity of the Indians, countering the opinions of those who doubted the Indians' ability not only to learn Latin grammar, but to speak, and compose in it. He went on to refute concerns about the possibility of the Indians spreading heresy.<ref>Bernardino de Sahagún quoted in Ricard, ''Spiritual Conquest'', p. 226-27.</ref>  Betanzos in his opposition to the ''Colegio'' said that Native Americans who knew Latin could expose the ignorance of the existing European priests, an argument that perhaps unwittingly did the same.<ref>Ricard, ''Spiritual Conquest'' p. 226, quoting Joaquín García Icazbalceta, ''Códice Franciscano'', vol. 2 of ''Nueva colección de documentos para la historia de México'', Mexico: 1886-1892, p. 71.</ref>\n",
      "\n",
      "The original purpose of the ''Colegio'' was to educate a male indigenous priesthood, and so pupils were selected from the most prestigious families of the Aztec ruling class. These young men were taught to be literate in [[Nahuatl]], [[Spanish language|Spanish]] and [[Latin]], and received instruction in Latin in music, rhetoric, logic, and philosophy, and indigenous medicine.<ref>Ricard, ''Spiritual Conquest'', p. 220.</ref> One student educated at the ''Colegio'' was [[Nahua peoples|Nahua]] [[Botany|botanist]] Martín de la Cruz, who wrote the [[Libellus de Medicinalibus Indorum Herbis]], an illustrated herbal.\n",
      "\n",
      "Actual instruction at the ''Colegio'' was by two Franciscans at a time, aided by Indian assistants.<ref>Ricard, ''Spiritual Conquest'', p. 220.</ref> Among the teachers were notable scholars and grammarians such as Franciscans [[Andrés de Olmos]], [[Alonso de Molina]] and [[Bernardino de Sahagún]], all of whom have made important contributions to the study of both the [[Classical Nahuatl]] language and the [[ethnography]] and anthropology of [[Mesoamerica]]. Other Franciscans who taught there were Fray Juan de Goana, Fray Francisco de Bustamante, Fray García de Cisneros, Fray Arnaldo de Basaccio, and Fray Juan Focher.<ref>Ricard, ''Spiritual Conquest'', p. 220, citing Gerónimo de Mendieta, ''Historia Eclesiástica Indiana''.</ref> [[Fray Juan de Torquemada]] also served as a teacher and administrator at the ''Colegio''. When recollecting historical and ethnographical information for the elaboration of the [[Florentine Codex]], Sahagún used his trilingual students to elicit information from the Aztec elders and to transcribe it in Spanish and Nahuatl and to illuminate the manuscripts.\n",
      "\n",
      "Opened with great fanfare, the ceremony was attended by Viceroy Mendoza, Bishop [[Juan de Zumárraga]], and the President of the Audiencia, [[Sebastián Ramírez de Fuenleal]] with a great crowd to view the proceedings.  Fray Alonso de Herrera preached the sermon at the opening Mass. Following the religious ceremony, there was a banquet hosted by Zumárraga for guests and the first pupils, chosen from the convent of San Francisco de México.<ref>Ricard, ''Spiritual Conquest'', p. 219.</ref>\n",
      "\n",
      "Although there was great support from many sectors (excluding the Dominicans who objected to the founding of the ''Colegio''), the physical structure was at first quite modest for lack of funds and later a stone house was built.<ref>Ricard, ''Spiritual Conquest'' p. 219.</ref>\n",
      "\n",
      "The first sixty male students was a small cohort of sons of noble families; there was tremendous need for many more pupils, so the Franciscans actively recruited others from important towns in central Mexico, two or three boys 10 to 12 years of age.<ref>Ricard, ''Spiritual Conquest'', p. 219.</ref>  The pupils lived in the ''Colegio'' in very modest circumstances.  A common eating area and sleeping quarters with beds being only a mat and a blanket placed on individual wooden platforms to keep pupils from the damp floor.<ref>Ricard, ''Spiritual Conquest'', p. 219-220.</ref>  Some important pupils trained at the school were [[Antonio de Valeriano]], who was the most prominent of those who collaborated with Sahagún. Spanish judge Alonso de Zorita, author of ''Life and Labor in Ancient Mexico: the Brief and Summary Relation of the Lords of New Spain''<ref>Alonso de Zorita, ''Life and Labor in Ancient Mexico: the Brief and Summary Relation of the Lords of New Spain''.  Translated by Benjamin Keen.  New Brunswick: Rutgers University Press 1963.</ref> was aided by the translations of Pablo Nazareno, a former pupil at the ''Colegio''.<ref>Ricard, ''Spiritual Conquest'' p.&nbsp;224.</ref>\n",
      "\n",
      "The Franciscans continued to teach at the ''Colegio'', but could not afford to keep up the building or other expenses, so they turned it over to the crown shortly after the ''Colegio'' opened in 1536.<ref>Ricard, ''Spiritual Conquest'' p. 220.</ref>  In 1546 the Franciscans gave up any management of the property and it was turned over to the pupils and former pupils to run.  By 1550 due to poor management, the buildings were falling down and pupils had to become day students.<ref>Ricard, ''Spiritual Conquest'', p. 220.</ref>  In 1555, Indians were forbidden from ordination to the priesthood, so that the original purpose of the school to train a native priesthood was ended.  In the seventeenth century when Franciscan [[Augustín de Vetancurt]] was writing, the ''Colegio'' was a complete ruin.<ref>Ricard, ''Spiritual Conquest'' p. 221.</ref>\n",
      "\n",
      "In modern [[Mexico city]] the [[Plaza de las Tres Culturas]], close to the location of the ''Colegio'', commemorates this particularly interesting part of the cultural history of Mexico.\n",
      "\n",
      "The accompanying illustration shows the church of Santiago which still exists, together with part of the conventual buildings (now a library), visible to the right of the church.<ref>The surviving conventual buildings house the José María Lafragua Library: see the relevant [http://www.sre.gob.mx/acervo/index.php?option=com_content&view=article&id=54&Itemid=332 webpage] of the Mexican Ministry of Foreign Affairs</ref>\n",
      "\n",
      "==Legacy==\n",
      "The ''Colegio'' was founded in the early sixteenth century in a period of great optimism about the capacity of the Indians and the prospects for their being ordained as Catholic priests.  Its failure in the late sixteenth century was a serious one.  According to Robert Ricard, the \"error prevented the Church from striking deep roots in the nation, gave it the appearance and character of a foreign institution, and kept it dependent upon the mother country.\"<ref>Ricard, ''Spiritual Conquest'', p. 235.</ref>  There were some Indian men ordained in the later colonial period, but they were few and never held high posts.<ref>Ricard, ''Spiritual Conquest'', p. 235.</ref>  American-born Spaniards, [[Criollo people|criollos]], were trained in Mexican seminaries, but there was no significant native clergy.\n",
      "\n",
      "The training of elite young men at the ''Colegio'' in grammar, rhetoric, and theology did, however, enormously aid the Franciscans in their efforts to evangelize the Indians and to record indigenous history and culture in texts that remain fundamental to the understanding of Nahua culture.\n",
      "\n",
      "==See also==\n",
      "*[[Plaza de las Tres Culturas]]\n",
      "*[[Tlatelolco (archaeological site)]]\n",
      "*[[List of colonial churches in Mexico City]]\n",
      "*[[List of oldest buildings in the Americas]]\n",
      "\n",
      "==References==\n",
      "{{div col|colwidth=30em}}\n",
      "{{reflist}}\n",
      "{{div col end|2}}\n",
      "\n",
      "==Further reading==\n",
      "{{div col|colwidth=30em}}\n",
      "*Baudot, Georges. ''Utopia and History in Mexico: The First Chronicles of Mexican Civilization, 1520-1569''. Translated by Bernardo R. Ortiz de Montellano and Thelma Ortiz de Montellano.  Boulder: University of Colorado Press 1995.\n",
      "*Brand, Donald, D., \"Where is the Oldest University in the New World?\", ''New Mexico Anthropologist'', vol. 4, No. 4 (Oct.-Dec. 1940), pp.&nbsp;61–63\n",
      "*Estarellas, Juan: \"The College of Tlatelolco and the Problem of Higher Education for Indians in 16th Century Mexico\". ''History of Education Quarterly'', Vol. 2, No. 4 (Dec., 1962) pp.&nbsp;234–243\n",
      "*Gómez Canedo, Lino. ''La educación de los marginados durante la época colonial: Escuelas y colegios para indios y mestizos en la Nueva España''. cap. IV \"Enseñanza superior: Tlatelolco\". Mexico: Editorial Porrúa 1982.\n",
      "*Mathes, Michael, 1985, \"''The Americas' first academic library Santa Cruz de Tlatelolco''\", Sacramento, California State Library\n",
      "*Maxwell, Judith M, and Craig A Hanson, 1992, \"Introduction\" ''Of the Manner of Speaking That the Old Ones Had: Arte Para aprender la Lengua Mexicana 1547''. University of Utah Press, Salt Lake City.\n",
      "*Ocaranza, F.''El imperial colegio de indios de Santa Cruz de Santiago Tlatelolco''. Mexico, 1934, n.p.\n",
      "*Ricard, Robert. 1966. ''The Spiritual Conquest of Mexico: An Essay on the Apostolate and the Evangelizing Methods of the Mendicant Orders in New Spain, 1523-1572.'' Translated by Lesley Byrd Simpson. Berkeley: University of California Press 1966. Originally published in French in 1933.\n",
      "*SilverMoon. 2007. The Imperial College of Tlatelolco and the emergence of a new Nahua intellectual elite in New Spain (1500–1760). Doctoral Dissertation. Duke University. ProQuest. [https://books.google.com/books?id=CRzyqNlLuMsC&printsec=frontcover&source=gbs_ge_summary_r&cad=0#v=onepage&q&f=false]\n",
      "*Steck, F.B. ''El primer colegio de América, Santa Cruz de Tlatelolco. Mexico: Centro de Estudios Franciscanos, 1944.\n",
      "{{div col end|2}}\n",
      "\n",
      "{{coord|19.4509|N|99.1367|W|source:wikidata|display=title}}\n",
      "\n",
      "[[Category:Universities in Mexico City]]\n",
      "[[Category:Franciscan universities and colleges]]\n",
      "[[Category:Cuauhtémoc, Mexico City]]\n",
      "[[Category:Colonial Mexico|Colegio de Santa Cruz de Tlatelolco]]\n",
      "[[Category:1536 establishments in Mexico]]\n",
      "[[Category:Educational institutions established in the 1530s]]\n",
      "[[Category:Roman Catholic churches in Mexico City|Santiago Tlatelolco]]\n",
      "[[Category:Roman Catholic churches completed in 1536]]\n",
      "[[Category:Baroque architecture in Mexico]]\n"
     ]
    }
   ],
   "source": [
    "text = dataframe['Text'][1]\n",
    "print(text)\n",
    "#dataframe['Title'][8]"
   ]
  },
  {
   "cell_type": "code",
   "execution_count": 5,
   "metadata": {},
   "outputs": [],
   "source": [
    "text = dataframe['Text'][8]\n"
   ]
  },
  {
   "cell_type": "code",
   "execution_count": 22,
   "metadata": {},
   "outputs": [
    {
     "data": {
      "text/plain": [
       "'Order of battle at Beiping–Tianjin'"
      ]
     },
     "execution_count": 22,
     "metadata": {},
     "output_type": "execute_result"
    }
   ],
   "source": [
    "dataframe['Title'][8]"
   ]
  },
  {
   "cell_type": "markdown",
   "metadata": {},
   "source": [
    "### Preprocessing the Data\n",
    "<ol>    \n",
    "    <li>Rmove tags like\\<\\/ref\\></li>\n",
    "\n",
    "    <li>Remove Urls</li>\n",
    "    <li>Remove Punctuations</li>\n",
    "    <li>Remove stop words</li>\n",
    "    <li>Remove numbers</li>\n",
    "    </ol>"
   ]
  },
  {
   "cell_type": "code",
   "execution_count": 18,
   "metadata": {},
   "outputs": [],
   "source": [
    "def pre_process(text):\n",
    "    text = tags_Rem(text)\n",
    "    text = url_Rem(text)\n",
    "    text = Rem_Punc(text)\n",
    "    text = newline_remove(text)\n",
    "    text = stop_words(text)\n",
    "    return text\n",
    "    \n",
    "    "
   ]
  },
  {
   "cell_type": "code",
   "execution_count": 19,
   "metadata": {},
   "outputs": [],
   "source": [
    "#Remove html tags \n",
    "def tags_Rem(raw_html):\n",
    "    cleanr = re.compile('<.*?>')\n",
    "    cleantext = re.sub(cleanr, '', raw_html)\n",
    "    return cleantext"
   ]
  },
  {
   "cell_type": "code",
   "execution_count": 20,
   "metadata": {},
   "outputs": [],
   "source": [
    "#Remove urls\n",
    "def url_Rem(text):\n",
    "    text = re.sub(r'(https|http)?:\\/\\/(\\w|\\.|\\/|\\?|\\=|\\&|\\%)*\\b', '', text, flags=re.MULTILINE)\n",
    "    return text"
   ]
  },
  {
   "cell_type": "code",
   "execution_count": 21,
   "metadata": {},
   "outputs": [],
   "source": [
    "#Remove punctuations \n",
    "#THis function takes a string as input, removes the punctuation and return it back \n",
    "def Rem_Punc(text):\n",
    "        text = re.sub(r'[^\\w\\s]','',text)\n",
    "        return text\n"
   ]
  },
  {
   "cell_type": "code",
   "execution_count": 22,
   "metadata": {},
   "outputs": [],
   "source": [
    "##Remove \\n\n",
    "def newline_remove(text):\n",
    "    text.replace('\\n', '')\n",
    "    return text\n"
   ]
  },
  {
   "cell_type": "code",
   "execution_count": 23,
   "metadata": {},
   "outputs": [],
   "source": [
    "##remove stop words \n",
    "\n",
    "def stop_words(text):\n",
    "    \n",
    "\n",
    "    stop_words = set(stopwords.words('english')) \n",
    "\n",
    "    word_tokens = word_tokenize(text) \n",
    "\n",
    "    filtered_text = [w for w in word_tokens if not w in stop_words] \n",
    "\n",
    "    filtered_text = \"\"\n",
    "\n",
    "    for w in word_tokens: \n",
    "        if w not in stop_words: \n",
    "            filtered_text = filtered_text + \" \"+w\n",
    "    return filtered_text\n",
    " \n"
   ]
  },
  {
   "cell_type": "code",
   "execution_count": 25,
   "metadata": {},
   "outputs": [],
   "source": [
    "titles_ = []\n",
    "ids_ = []\n",
    "text_ = []\n",
    "for index, row in dataframe.iterrows():\n",
    "    #print(type(row[\"Text\"]))\n",
    "    text =pre_process( str(row[\"Text\"]))\n",
    "    text_.append(text)\n",
    "    ids_.append(row[\"ID\"])\n",
    "    titles_.append(row[\"Title\"])"
   ]
  },
  {
   "cell_type": "code",
   "execution_count": 27,
   "metadata": {},
   "outputs": [],
   "source": [
    "dataframe_processed = pd.DataFrame(data={'Title': titles_, 'ID': ids_, 'Text': text_})\n"
   ]
  },
  {
   "cell_type": "code",
   "execution_count": 29,
   "metadata": {},
   "outputs": [],
   "source": [
    "dataframe_processed.to_csv(\"processed_data\", sep='\\t')\n"
   ]
  },
  {
   "cell_type": "code",
   "execution_count": null,
   "metadata": {},
   "outputs": [],
   "source": []
  }
 ],
 "metadata": {
  "kernelspec": {
   "display_name": "Python 3",
   "language": "python",
   "name": "python3"
  },
  "language_info": {
   "codemirror_mode": {
    "name": "ipython",
    "version": 3
   },
   "file_extension": ".py",
   "mimetype": "text/x-python",
   "name": "python",
   "nbconvert_exporter": "python",
   "pygments_lexer": "ipython3",
   "version": "3.8.5"
  }
 },
 "nbformat": 4,
 "nbformat_minor": 2
}
