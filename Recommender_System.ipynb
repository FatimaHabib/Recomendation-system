{
 "cells": [
  {
   "cell_type": "markdown",
   "metadata": {},
   "source": [
    "# Recommender System - Part 1 "
   ]
  },
  {
   "cell_type": "markdown",
   "metadata": {},
   "source": [
    "## Retrieve data "
   ]
  },
  {
   "cell_type": "code",
   "execution_count": 61,
   "metadata": {},
   "outputs": [
    {
     "data": {
      "text/html": [
       "<div>\n",
       "<style scoped>\n",
       "    .dataframe tbody tr th:only-of-type {\n",
       "        vertical-align: middle;\n",
       "    }\n",
       "\n",
       "    .dataframe tbody tr th {\n",
       "        vertical-align: top;\n",
       "    }\n",
       "\n",
       "    .dataframe thead th {\n",
       "        text-align: right;\n",
       "    }\n",
       "</style>\n",
       "<table border=\"1\" class=\"dataframe\">\n",
       "  <thead>\n",
       "    <tr style=\"text-align: right;\">\n",
       "      <th></th>\n",
       "      <th>Title</th>\n",
       "      <th>ID</th>\n",
       "      <th>Text</th>\n",
       "    </tr>\n",
       "  </thead>\n",
       "  <tbody>\n",
       "    <tr>\n",
       "      <td>0</td>\n",
       "      <td>Chestnut Ridge Middle School</td>\n",
       "      <td>8554860</td>\n",
       "      <td>#REDIRECT[[Washington Township Public School D...</td>\n",
       "    </tr>\n",
       "    <tr>\n",
       "      <td>1</td>\n",
       "      <td>Colegio de Santa Cruz de Tlatelolco</td>\n",
       "      <td>8554864</td>\n",
       "      <td>{{Infobox university\\n|name              = Col...</td>\n",
       "    </tr>\n",
       "    <tr>\n",
       "      <td>2</td>\n",
       "      <td>Template:US-gov-bio-stub</td>\n",
       "      <td>8554865</td>\n",
       "      <td>{{asbox\\n| image     = Great Seal of the Unite...</td>\n",
       "    </tr>\n",
       "    <tr>\n",
       "      <td>3</td>\n",
       "      <td>Impractical joker (garfield)</td>\n",
       "      <td>8554867</td>\n",
       "      <td>#REDIRECT [[List of Garfield and Friends episo...</td>\n",
       "    </tr>\n",
       "    <tr>\n",
       "      <td>4</td>\n",
       "      <td>File:The Imperial Dowager Empress Yehenara.PNG</td>\n",
       "      <td>8554869</td>\n",
       "      <td>== Summary ==\\nhttp://guangxu.netor.com/galler...</td>\n",
       "    </tr>\n",
       "  </tbody>\n",
       "</table>\n",
       "</div>"
      ],
      "text/plain": [
       "                                            Title       ID  \\\n",
       "0                    Chestnut Ridge Middle School  8554860   \n",
       "1             Colegio de Santa Cruz de Tlatelolco  8554864   \n",
       "2                        Template:US-gov-bio-stub  8554865   \n",
       "3                    Impractical joker (garfield)  8554867   \n",
       "4  File:The Imperial Dowager Empress Yehenara.PNG  8554869   \n",
       "\n",
       "                                                Text  \n",
       "0  #REDIRECT[[Washington Township Public School D...  \n",
       "1  {{Infobox university\\n|name              = Col...  \n",
       "2  {{asbox\\n| image     = Great Seal of the Unite...  \n",
       "3  #REDIRECT [[List of Garfield and Friends episo...  \n",
       "4  == Summary ==\\nhttp://guangxu.netor.com/galler...  "
      ]
     },
     "execution_count": 61,
     "metadata": {},
     "output_type": "execute_result"
    }
   ],
   "source": [
    "import xml.etree.ElementTree as ET\n",
    "import pandas as pd\n",
    "tree = ET.parse('/media/macaire/Ubuntu/Master_2/Recommender_systems/Case_Study/enwiki-20210101-pages-articles-multistream12.xml')\n",
    "root = tree.getroot()\n",
    "\n",
    "titles = []\n",
    "texts = []\n",
    "ids = []\n",
    "\n",
    "ns = {'mediawiki': 'http://www.mediawiki.org/xml/export-0.10/'}\n",
    "for child in root.findall('mediawiki:page', ns):\n",
    "    title = child.find('mediawiki:title', ns)\n",
    "    identifier = child.find('mediawiki:id', ns)\n",
    "    titles.append(title.text)\n",
    "    ids.append(identifier.text)\n",
    "    for revision in child.findall('mediawiki:revision', ns):\n",
    "        text_data = revision.find('mediawiki:text', ns)\n",
    "        if text_data != None:\n",
    "            texts.append(text_data.text)\n",
    "        else:\n",
    "            texts.append(None)\n",
    "\n",
    "            # Create data frame with elements\n",
    "\n",
    "dataframe = pd.DataFrame(data={'Title': titles, 'ID': ids, 'Text': texts})\n",
    "dataframe.head(5)"
   ]
  },
  {
   "cell_type": "code",
   "execution_count": 62,
   "metadata": {},
   "outputs": [
    {
     "data": {
      "text/plain": [
       "<bound method NDFrame.describe of                                                  Title       ID  \\\n",
       "0                         Chestnut Ridge Middle School  8554860   \n",
       "1                  Colegio de Santa Cruz de Tlatelolco  8554864   \n",
       "2                             Template:US-gov-bio-stub  8554865   \n",
       "3                         Impractical joker (garfield)  8554867   \n",
       "4       File:The Imperial Dowager Empress Yehenara.PNG  8554869   \n",
       "...                                                ...      ...   \n",
       "171737            South Delhi (Lok Sabha Constituency)  9172776   \n",
       "171738                            File:Om grafitti.jpg  9172779   \n",
       "171739                                    South Cliffe  9172782   \n",
       "171740                                    Sándor Erdős  9172785   \n",
       "171741                           Yoshibayama Junnosuke  9172787   \n",
       "\n",
       "                                                     Text  \n",
       "0       #REDIRECT[[Washington Township Public School D...  \n",
       "1       {{Infobox university\\n|name              = Col...  \n",
       "2       {{asbox\\n| image     = Great Seal of the Unite...  \n",
       "3       #REDIRECT [[List of Garfield and Friends episo...  \n",
       "4       == Summary ==\\nhttp://guangxu.netor.com/galler...  \n",
       "...                                                   ...  \n",
       "171737  #REDIRECT [[South Delhi (Lok Sabha constituenc...  \n",
       "171738  ==Summary==\\nThis is an Om (also spelled Aum) ...  \n",
       "171739  {{About|the British village|the television ser...  \n",
       "171740  {{short description|Hungarian fencer}}\\n{{East...  \n",
       "171741  {{short description|Japanese sumo wrestler}}\\n...  \n",
       "\n",
       "[171742 rows x 3 columns]>"
      ]
     },
     "execution_count": 62,
     "metadata": {},
     "output_type": "execute_result"
    }
   ],
   "source": [
    "dataframe.describe"
   ]
  },
  {
   "cell_type": "code",
   "execution_count": 63,
   "metadata": {},
   "outputs": [
    {
     "ename": "IndexError",
     "evalue": "tuple index out of range",
     "output_type": "error",
     "traceback": [
      "\u001b[0;31m---------------------------------------------------------------------------\u001b[0m",
      "\u001b[0;31mIndexError\u001b[0m                                Traceback (most recent call last)",
      "\u001b[0;32m<ipython-input-63-4999e68958a5>\u001b[0m in \u001b[0;36m<module>\u001b[0;34m\u001b[0m\n\u001b[0;32m----> 1\u001b[0;31m \u001b[0mprint\u001b[0m\u001b[0;34m(\u001b[0m\u001b[0mdataframe\u001b[0m\u001b[0;34m.\u001b[0m\u001b[0mshape\u001b[0m\u001b[0;34m[\u001b[0m\u001b[0;36m2\u001b[0m\u001b[0;34m]\u001b[0m \u001b[0;34m-\u001b[0m \u001b[0mdataframe\u001b[0m\u001b[0;34m.\u001b[0m\u001b[0mdropna\u001b[0m\u001b[0;34m(\u001b[0m\u001b[0;34m)\u001b[0m\u001b[0;34m.\u001b[0m\u001b[0mshape\u001b[0m\u001b[0;34m[\u001b[0m\u001b[0;36m2\u001b[0m\u001b[0;34m]\u001b[0m\u001b[0;34m)\u001b[0m\u001b[0;34m\u001b[0m\u001b[0;34m\u001b[0m\u001b[0m\n\u001b[0m",
      "\u001b[0;31mIndexError\u001b[0m: tuple index out of range"
     ]
    }
   ],
   "source": [
    "print(dataframe.shape[0] - dataframe.dropna().shape[0])"
   ]
  },
  {
   "cell_type": "code",
   "execution_count": null,
   "metadata": {},
   "outputs": [],
   "source": []
  }
 ],
 "metadata": {
  "kernelspec": {
   "display_name": "Python 3",
   "language": "python",
   "name": "python3"
  },
  "language_info": {
   "codemirror_mode": {
    "name": "ipython",
    "version": 3
   },
   "file_extension": ".py",
   "mimetype": "text/x-python",
   "name": "python",
   "nbconvert_exporter": "python",
   "pygments_lexer": "ipython3",
   "version": "3.7.4"
  }
 },
 "nbformat": 4,
 "nbformat_minor": 2
}
